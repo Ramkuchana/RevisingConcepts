{
  "nbformat": 4,
  "nbformat_minor": 0,
  "metadata": {
    "colab": {
      "provenance": [],
      "gpuType": "T4",
      "include_colab_link": true
    },
    "kernelspec": {
      "name": "python3",
      "display_name": "Python 3"
    },
    "language_info": {
      "name": "python"
    },
    "accelerator": "GPU"
  },
  "cells": [
    {
      "cell_type": "markdown",
      "metadata": {
        "id": "view-in-github",
        "colab_type": "text"
      },
      "source": [
        "<a href=\"https://colab.research.google.com/github/Ramkuchana/RevisingConcepts/blob/master/RevisingPyTorch.ipynb\" target=\"_parent\"><img src=\"https://colab.research.google.com/assets/colab-badge.svg\" alt=\"Open In Colab\"/></a>"
      ]
    },
    {
      "cell_type": "markdown",
      "source": [
        "##### Copyright 2022 AssemblyAI Team."
      ],
      "metadata": {
        "id": "lCHxjzMCGgm5"
      }
    },
    {
      "cell_type": "markdown",
      "source": [
        "# PyTorch Crash Course\n",
        "\n",
        "#### Overview:\n",
        "\n",
        "1. Tensor Basics\n",
        "  - Create, Operations, NumPy, GPU Support\n",
        "2. Autograd\n",
        "  - Linear regression example\n",
        "3. Training Loop with: Model, Loss & Optimizer\n",
        "  - A typical PyTorch training pipeline\n",
        "4. Neural Network\n",
        "  - Also: GPU, Datasets, DataLoader, Transforms & Evaluation\n",
        "5. Convolutional Neural Network\n",
        "  - Also: Save/Load model"
      ],
      "metadata": {
        "id": "MAcpE-kjwVML"
      }
    },
    {
      "cell_type": "markdown",
      "source": [
        "Created by [AssemblyAI](https://www.assemblyai.com)\n",
        "\n",
        "Watch the video:\n",
        "\n",
        " [![Alt text](https://img.youtube.com/vi/OIenNRt2bjg/hqdefault.jpg)](https://youtu.be/mYUyaKmvu6Y)"
      ],
      "metadata": {
        "id": "y6ft2IN4F6sV"
      }
    },
    {
      "cell_type": "markdown",
      "source": [
        "## 1. Tensors\n",
        "\n",
        "Everything in PyTorch is based on Tensor operations. A Tensor is a multi-dimensional matrix containing elements of a single data type:\n"
      ],
      "metadata": {
        "id": "mUT_7ZCPwY9E"
      }
    },
    {
      "cell_type": "markdown",
      "source": [
        "* Brackets in the output gives you no. of dimensions of Tensor\n",
        "\n",
        "* read shape or size of tensor from left to right\n",
        "\n",
        "for example,\n",
        "\n",
        "\n",
        "(2,2,2,3) means we have 2 (2,2,3) tensors\n",
        "then within (2,2,3) we have 2 (2,3) tensors\n",
        "then (2,3) can be seen as matrix\n",
        "\n",
        "also note\n",
        "last value in size gives total no. of elements in all units\n",
        "example:  In (2,2,2,3) , each unit has 3 elements in it"
      ],
      "metadata": {
        "id": "OBD6wmvIUs2j"
      }
    },
    {
      "cell_type": "code",
      "execution_count": 1,
      "metadata": {
        "id": "3mWV8uTgo4Bl",
        "colab": {
          "base_uri": "https://localhost:8080/"
        },
        "outputId": "a2954b45-ffa5-4ef6-e1b7-6dba5b26eac3"
      },
      "outputs": [
        {
          "output_type": "stream",
          "name": "stdout",
          "text": [
            "empty(1): tensor([4.4721e+21])\n",
            "\n",
            "empty(3): tensor([-1.1059e+04,  4.3266e-41, -1.1059e+04])\n",
            "\n",
            "empty(2,3): tensor([[-1.1059e+04,  4.3266e-41,  1.7048e-12],\n",
            "        [ 3.2301e-41,  0.0000e+00,  3.2301e-41]])\n",
            "\n",
            "empty(2, 2, 3): tensor([[[ 3.1688e-13,  3.2301e-41, -1.4209e+14],\n",
            "         [ 4.3265e-41,  1.4013e-45,  0.0000e+00]],\n",
            "\n",
            "        [[ 7.0065e-45,  0.0000e+00,  0.0000e+00],\n",
            "         [ 0.0000e+00,  0.0000e+00,  0.0000e+00]]])\n",
            "\n",
            "empty(2,2,2,3): tensor([[[[-6.8577e+03,  4.3266e-41, -6.7137e+03],\n",
            "          [ 4.3266e-41, -1.4990e+14,  4.3265e-41]],\n",
            "\n",
            "         [[-1.4136e+14,  4.3265e-41,  1.1732e-24],\n",
            "          [ 4.3266e-41,  2.0319e-43,  0.0000e+00]]],\n",
            "\n",
            "\n",
            "        [[[ 1.9469e-12,  3.2301e-41, -1.1059e+04],\n",
            "          [ 4.3266e-41,  1.9476e-12,  3.2301e-41]],\n",
            "\n",
            "         [[ 1.9468e-12,  3.2301e-41, -1.4991e+14],\n",
            "          [ 4.3265e-41, -1.2709e-07,  4.3266e-41]]]])\n",
            "\n",
            "rand(5,3): tensor([[0.1211, 0.1975, 0.7579],\n",
            "        [0.0622, 0.3371, 0.9537],\n",
            "        [0.9665, 0.8592, 0.7727],\n",
            "        [0.9592, 0.0492, 0.2732],\n",
            "        [0.1646, 0.2956, 0.3667]])\n",
            "\n",
            "zeros(5,3): tensor([[0., 0., 0.],\n",
            "        [0., 0., 0.],\n",
            "        [0., 0., 0.],\n",
            "        [0., 0., 0.],\n",
            "        [0., 0., 0.]])\n",
            "\n"
          ]
        }
      ],
      "source": [
        "import torch\n",
        "\n",
        "# torch.empty(size): uninitiallized\n",
        "x = torch.empty(1) # scalar\n",
        "print(\"empty(1):\", x, end=\"\\n\\n\")\n",
        "x = torch.empty(3) # vector\n",
        "print(\"empty(3):\",x, end=\"\\n\\n\")\n",
        "\n",
        "x = torch.empty(2, 3) # matrix\n",
        "print(\"empty(2,3):\",x, end=\"\\n\\n\")\n",
        "\n",
        "y = torch.empty(2, 2, 3) # tensor, 3 dimensions\n",
        "print(\"empty(2, 2, 3):\",y, end=\"\\n\\n\")\n",
        "\n",
        "\n",
        "x = torch.empty(2,2,2,3) # tensor, 4 dimensions\n",
        "print(\"empty(2,2,2,3):\",x, end=\"\\n\\n\")\n",
        "\n",
        "# torch.rand(size): random numbers [0, 1]\n",
        "x = torch.rand(5, 3)\n",
        "print(\"rand(5,3):\", x, end=\"\\n\\n\")\n",
        "\n",
        "# torch.zeros(size), fill with 0\n",
        "# torch.ones(size), fill with 1\n",
        "x = torch.zeros(5, 3)\n",
        "print(\"zeros(5,3):\", x, end=\"\\n\\n\")"
      ]
    },
    {
      "cell_type": "code",
      "source": [
        "torch.ones((2,3,)) == torch.ones(2,3)"
      ],
      "metadata": {
        "colab": {
          "base_uri": "https://localhost:8080/"
        },
        "id": "BA5IJvWFT0Ev",
        "outputId": "9edacd89-7c77-4c7d-c17a-4b8b9cf29f43"
      },
      "execution_count": 5,
      "outputs": [
        {
          "output_type": "execute_result",
          "data": {
            "text/plain": [
              "tensor([[True, True, True],\n",
              "        [True, True, True]])"
            ]
          },
          "metadata": {},
          "execution_count": 5
        }
      ]
    },
    {
      "cell_type": "markdown",
      "source": [],
      "metadata": {
        "id": "119AdwVsUrnh"
      }
    },
    {
      "cell_type": "code",
      "source": [
        "# check size\n",
        "\n",
        "print(\"size\", x.size())  # x.size(0)\n",
        "print(\"shape\", x.shape)  # x.shape[0]"
      ],
      "metadata": {
        "id": "Asq_Sgh7cJnN",
        "colab": {
          "base_uri": "https://localhost:8080/"
        },
        "outputId": "fa680970-0a0c-49a5-c92f-ce2b5847f994"
      },
      "execution_count": 2,
      "outputs": [
        {
          "output_type": "stream",
          "name": "stdout",
          "text": [
            "size torch.Size([5, 3])\n",
            "shape torch.Size([5, 3])\n"
          ]
        }
      ]
    },
    {
      "cell_type": "code",
      "source": [
        "y.shape"
      ],
      "metadata": {
        "colab": {
          "base_uri": "https://localhost:8080/"
        },
        "id": "GecxDechKznz",
        "outputId": "9203e137-5ffa-42cd-fc09-f0d85545cc9b"
      },
      "execution_count": 3,
      "outputs": [
        {
          "output_type": "execute_result",
          "data": {
            "text/plain": [
              "torch.Size([2, 2, 3])"
            ]
          },
          "metadata": {},
          "execution_count": 3
        }
      ]
    },
    {
      "cell_type": "code",
      "source": [
        "# check data type\n",
        "print(x.dtype)\n",
        "\n",
        "# specify types, float32 default\n",
        "x = torch.zeros(5, 3, dtype=torch.float16)\n",
        "print(x)\n",
        "\n",
        "# check type\n",
        "print(x.dtype)"
      ],
      "metadata": {
        "id": "DmDNPMrp_zLj",
        "colab": {
          "base_uri": "https://localhost:8080/"
        },
        "outputId": "4cad8521-238a-4d20-fab9-842dd9da2f19"
      },
      "execution_count": 4,
      "outputs": [
        {
          "output_type": "stream",
          "name": "stdout",
          "text": [
            "torch.float32\n",
            "tensor([[0., 0., 0.],\n",
            "        [0., 0., 0.],\n",
            "        [0., 0., 0.],\n",
            "        [0., 0., 0.],\n",
            "        [0., 0., 0.]], dtype=torch.float16)\n",
            "torch.float16\n"
          ]
        }
      ]
    },
    {
      "cell_type": "code",
      "source": [
        "y = torch.rand(2,2, dtype=torch.float64)\n",
        "print(y)\n",
        "\n",
        "print(y.dtype)"
      ],
      "metadata": {
        "colab": {
          "base_uri": "https://localhost:8080/"
        },
        "id": "0BkKQpZiLIL-",
        "outputId": "aa0dc257-6ff5-45eb-c3f1-088c8576a436"
      },
      "execution_count": 5,
      "outputs": [
        {
          "output_type": "stream",
          "name": "stdout",
          "text": [
            "tensor([[0.7316, 0.0106],\n",
            "        [0.7710, 0.1873]], dtype=torch.float64)\n",
            "torch.float64\n"
          ]
        }
      ]
    },
    {
      "cell_type": "code",
      "source": [
        "# construct from data\n",
        "\n",
        "x = torch.tensor([5.5, 3])\n",
        "print(x, x.dtype)"
      ],
      "metadata": {
        "id": "sj2VAgMM_2Vu",
        "colab": {
          "base_uri": "https://localhost:8080/"
        },
        "outputId": "4d376a0a-ebc6-4bc6-be44-ce2d9281147c"
      },
      "execution_count": 6,
      "outputs": [
        {
          "output_type": "stream",
          "name": "stdout",
          "text": [
            "tensor([5.5000, 3.0000]) torch.float32\n"
          ]
        }
      ]
    },
    {
      "cell_type": "code",
      "source": [
        "y = torch.tensor([[[7.2,7,3,4.5],[2.2,3.3,4,6]]], dtype=torch.float64)\n",
        "\n",
        "print(y)\n",
        "print(y.shape)\n",
        "print(y.dtype)"
      ],
      "metadata": {
        "colab": {
          "base_uri": "https://localhost:8080/"
        },
        "id": "ToSLfHWNLoMT",
        "outputId": "96b11fa8-ba73-4cac-8280-f74d4aa4ef8d"
      },
      "execution_count": 7,
      "outputs": [
        {
          "output_type": "stream",
          "name": "stdout",
          "text": [
            "tensor([[[7.2000, 7.0000, 3.0000, 4.5000],\n",
            "         [2.2000, 3.3000, 4.0000, 6.0000]]], dtype=torch.float64)\n",
            "torch.Size([1, 2, 4])\n",
            "torch.float64\n"
          ]
        }
      ]
    },
    {
      "cell_type": "code",
      "source": [
        "# requires_grad argument\n",
        "# This will tell pytorch that it will need to calculate the gradients for this tensor\n",
        "# later in your optimization steps\n",
        "# i.e. this is a variable in your model that you want to optimize\n",
        "\n",
        "x = torch.tensor([5.5, 3], requires_grad=True)\n",
        "print(x)"
      ],
      "metadata": {
        "id": "uT-3O8wtcMeZ",
        "colab": {
          "base_uri": "https://localhost:8080/"
        },
        "outputId": "40a6668b-0b60-4c69-84fb-37bd49e08854"
      },
      "execution_count": 8,
      "outputs": [
        {
          "output_type": "stream",
          "name": "stdout",
          "text": [
            "tensor([5.5000, 3.0000], requires_grad=True)\n"
          ]
        }
      ]
    },
    {
      "cell_type": "markdown",
      "source": [
        "#### Operations with Tensors"
      ],
      "metadata": {
        "id": "_cDRipePEhZ_"
      }
    },
    {
      "cell_type": "code",
      "source": [
        "# Operations\n",
        "x = torch.ones(2, 2)\n",
        "y = torch.rand(2, 2)\n",
        "\n",
        "# elementwise addition\n",
        "z = x + y\n",
        "# torch.add(x,y)\n",
        "\n",
        "# in place addition, everythin with a trailing underscore is an inplace operation\n",
        "# i.e. it will modify the variable\n",
        "# y.add_(x)\n",
        "\n",
        "print(x, end=\"\\n\\n\")\n",
        "print(y, end=\"\\n\\n\")\n",
        "print(z, end=\"\\n\\n\")"
      ],
      "metadata": {
        "id": "3pjK4YL6ES9B",
        "colab": {
          "base_uri": "https://localhost:8080/"
        },
        "outputId": "3fe78b62-ef5b-4bc1-a52a-7a3f72abc45c"
      },
      "execution_count": 9,
      "outputs": [
        {
          "output_type": "stream",
          "name": "stdout",
          "text": [
            "tensor([[1., 1.],\n",
            "        [1., 1.]])\n",
            "\n",
            "tensor([[0.6690, 0.7624],\n",
            "        [0.6110, 0.9063]])\n",
            "\n",
            "tensor([[1.6690, 1.7624],\n",
            "        [1.6110, 1.9063]])\n",
            "\n"
          ]
        }
      ]
    },
    {
      "cell_type": "code",
      "source": [
        "# subtraction\n",
        "z = x - y\n",
        "z = torch.sub(x, y)\n",
        "print(z)\n",
        "\n",
        "# multiplication\n",
        "z = x * y\n",
        "z = torch.mul(x,y)\n",
        "print(z)\n",
        "\n",
        "# division\n",
        "z = x / y\n",
        "z = torch.div(x,y)\n",
        "print(z)\n",
        "print(z.dtype)"
      ],
      "metadata": {
        "id": "qXEAxoExC2aq",
        "colab": {
          "base_uri": "https://localhost:8080/"
        },
        "outputId": "66cc9d29-569e-4b0f-adf8-2866cc07a4be"
      },
      "execution_count": 10,
      "outputs": [
        {
          "output_type": "stream",
          "name": "stdout",
          "text": [
            "tensor([[0.3310, 0.2376],\n",
            "        [0.3890, 0.0937]])\n",
            "tensor([[0.6690, 0.7624],\n",
            "        [0.6110, 0.9063]])\n",
            "tensor([[1.4948, 1.3116],\n",
            "        [1.6365, 1.1034]])\n",
            "torch.float32\n"
          ]
        }
      ]
    },
    {
      "cell_type": "code",
      "source": [
        "# Slicing\n",
        "\n",
        "x = torch.rand(5,3)\n",
        "print(x, end=\"\\n\\n\")\n",
        "print(\"Type of x:\", x.type(), end='\\n\\n') # object.type() is a pytorch method\n",
        "print(\"Type of x:\", type(x), end='\\n\\n') # type(object) is a python method\n",
        "\n",
        "print(\"x[:, 0]\", x[:, 0]) # all rows, column 0\n",
        "print(\"x[:, 0]\", x[:, 0].size()) # shape\n",
        "print(\"Type of x[:, 0]:\", x[:, 0].type(), end='\\n\\n') # type\n",
        "\n",
        "\n",
        "print(\"x[1, :]\", x[1, :], end='\\n\\n') # row 1, all columns\n",
        "\n",
        "\n",
        "print(\"x[1, 1]\", x[1,1]) # element at 1, 1\n",
        "print(\"Shape of x[1, 1]\", x[1,1].size()) #shape\n",
        "print(\"Type of Shape of x[1, 1]:\", x[1,1].type)\n",
        "\n",
        "# Get the actual value if only 1 element in your tensor\n",
        "print(\"x[1,1].item()\", x[1,1].item())"
      ],
      "metadata": {
        "id": "KPmWwGnIClh_",
        "colab": {
          "base_uri": "https://localhost:8080/"
        },
        "outputId": "535553b8-a833-4530-df3f-4036ba9a5bd4"
      },
      "execution_count": 11,
      "outputs": [
        {
          "output_type": "stream",
          "name": "stdout",
          "text": [
            "tensor([[0.1906, 0.9609, 0.9288],\n",
            "        [0.2768, 0.5001, 0.7730],\n",
            "        [0.8265, 0.3006, 0.2364],\n",
            "        [0.0186, 0.1227, 0.6379],\n",
            "        [0.6838, 0.2911, 0.3236]])\n",
            "\n",
            "Type of x: torch.FloatTensor\n",
            "\n",
            "Type of x: <class 'torch.Tensor'>\n",
            "\n",
            "x[:, 0] tensor([0.1906, 0.2768, 0.8265, 0.0186, 0.6838])\n",
            "x[:, 0] torch.Size([5])\n",
            "Type of x[:, 0]: torch.FloatTensor\n",
            "\n",
            "x[1, :] tensor([0.2768, 0.5001, 0.7730])\n",
            "\n",
            "x[1, 1] tensor(0.5001)\n",
            "Shape of x[1, 1] torch.Size([])\n",
            "Type of Shape of x[1, 1]: <built-in method type of Tensor object at 0x7cce140c4220>\n",
            "x[1,1].item() 0.5001376867294312\n"
          ]
        }
      ]
    },
    {
      "cell_type": "markdown",
      "source": [
        "Notice when you are accessing a value\n",
        "even though it is a Tensor it does not have size\n",
        "\n",
        "Example,\n",
        "x[1,1]\n",
        "\n"
      ],
      "metadata": {
        "id": "oKt_QR5MV2Mx"
      }
    },
    {
      "cell_type": "code",
      "source": [
        "k = torch.rand(3,2)\n",
        "\n",
        "print(k, end=\"\\n\\n\")\n",
        "\n",
        "print('*'*30)\n",
        "#print(\"k[:, 0]\", k[:, 0], end=\"\\n\\n\") # all rows, column 0\n",
        "\n",
        "k[...,0] == k[:,0]\n",
        "\n"
      ],
      "metadata": {
        "colab": {
          "base_uri": "https://localhost:8080/"
        },
        "id": "7njvMtibULnS",
        "outputId": "0c2befd2-ba04-4f0b-fbf0-a954372b5107"
      },
      "execution_count": 11,
      "outputs": [
        {
          "output_type": "stream",
          "name": "stdout",
          "text": [
            "tensor([[0.4471, 0.9728],\n",
            "        [0.1014, 0.1455],\n",
            "        [0.0265, 0.7279]])\n",
            "\n",
            "******************************\n"
          ]
        },
        {
          "output_type": "execute_result",
          "data": {
            "text/plain": [
              "tensor([True, True, True])"
            ]
          },
          "metadata": {},
          "execution_count": 11
        }
      ]
    },
    {
      "cell_type": "code",
      "source": [
        "# Reshape with torch.view()\n",
        "\n",
        "\n",
        "x = torch.randn(4, 4)\n",
        "y = x.view(16)\n",
        "z = x.view(-1, 8)  # the size -1 is inferred from other dimensions\n",
        "\n",
        "\n",
        "\n",
        "print(x, end='\\n\\n')\n",
        "print(y, end='\\n\\n')\n",
        "print(z, end='\\n\\n')\n",
        "\n",
        "\n",
        "# if -1 it pytorch will automatically determine the necessary size\n",
        "print(x.size(), y.size(), z.size())"
      ],
      "metadata": {
        "id": "f2D2dznXCouO",
        "colab": {
          "base_uri": "https://localhost:8080/"
        },
        "outputId": "c6fb688c-f4d5-48c9-dcae-7fe5213dbcea"
      },
      "execution_count": 13,
      "outputs": [
        {
          "output_type": "stream",
          "name": "stdout",
          "text": [
            "tensor([[-1.4748e-01, -1.3698e+00, -2.1118e-01,  7.7218e-01],\n",
            "        [-6.6691e-01,  1.0735e-03,  5.6287e-02, -1.6219e+00],\n",
            "        [ 3.5361e-01, -8.9562e-01,  6.0913e-01,  2.5152e-01],\n",
            "        [-1.2433e-01,  1.6947e-01,  1.1042e+00, -1.9922e-01]])\n",
            "\n",
            "tensor([-1.4748e-01, -1.3698e+00, -2.1118e-01,  7.7218e-01, -6.6691e-01,\n",
            "         1.0735e-03,  5.6287e-02, -1.6219e+00,  3.5361e-01, -8.9562e-01,\n",
            "         6.0913e-01,  2.5152e-01, -1.2433e-01,  1.6947e-01,  1.1042e+00,\n",
            "        -1.9922e-01])\n",
            "\n",
            "tensor([[-1.4748e-01, -1.3698e+00, -2.1118e-01,  7.7218e-01, -6.6691e-01,\n",
            "          1.0735e-03,  5.6287e-02, -1.6219e+00],\n",
            "        [ 3.5361e-01, -8.9562e-01,  6.0913e-01,  2.5152e-01, -1.2433e-01,\n",
            "          1.6947e-01,  1.1042e+00, -1.9922e-01]])\n",
            "\n",
            "torch.Size([4, 4]) torch.Size([16]) torch.Size([2, 8])\n"
          ]
        }
      ]
    },
    {
      "cell_type": "markdown",
      "source": [
        "#### NumPy\n",
        "\n",
        "Converting a Torch Tensor to a NumPy array and vice versa is very easy"
      ],
      "metadata": {
        "id": "rRbfGqafEu77"
      }
    },
    {
      "cell_type": "code",
      "source": [
        "a = torch.ones(5)\n",
        "print(a)\n",
        "\n",
        "# torch to numpy with .numpy()\n",
        "b = a.numpy()\n",
        "print(b)\n",
        "print(type(b))\n",
        "\n",
        "print()\n",
        "print(id(a))\n",
        "print(id(b))\n",
        "\n",
        "\n",
        "b"
      ],
      "metadata": {
        "id": "JB1OCRrUEyBr",
        "colab": {
          "base_uri": "https://localhost:8080/"
        },
        "outputId": "9dbeb009-3648-4997-e28f-ea8c70f8094e"
      },
      "execution_count": 6,
      "outputs": [
        {
          "output_type": "stream",
          "name": "stdout",
          "text": [
            "tensor([1., 1., 1., 1., 1.])\n",
            "[1. 1. 1. 1. 1.]\n",
            "<class 'numpy.ndarray'>\n",
            "\n",
            "132610550525808\n",
            "132610709306128\n"
          ]
        },
        {
          "output_type": "execute_result",
          "data": {
            "text/plain": [
              "array([1., 1., 1., 1., 1.], dtype=float32)"
            ]
          },
          "metadata": {},
          "execution_count": 6
        }
      ]
    },
    {
      "cell_type": "markdown",
      "source": [
        "Notice that when using with PRINT()\n",
        "in Tensor,\\\n",
        "the output tensor mentions tensor and has commas\n",
        "\n",
        "\n",
        "whereas in Numpy,\\\n",
        "there's no commas in Numpy and no mention of Numpy in the output"
      ],
      "metadata": {
        "id": "iRAjvLpHe7Ip"
      }
    },
    {
      "cell_type": "code",
      "source": [
        "# Careful: If the Tensor is on the CPU (not the GPU),\n",
        "# both objects will share the same memory location, so changing one\n",
        "# will also change the other\n",
        "\n",
        "a.add_(1) # inplace addition cuz we using function_() with underscore\n",
        "\n",
        "\n",
        "print(a)\n",
        "print(b)\n",
        "\n",
        "print(id(a))\n",
        "print(id(b))\n"
      ],
      "metadata": {
        "id": "kUzV6XdhdwYJ",
        "colab": {
          "base_uri": "https://localhost:8080/"
        },
        "outputId": "0aaaf665-6ddc-46af-f9ce-9a4909a02d0e"
      },
      "execution_count": 16,
      "outputs": [
        {
          "output_type": "stream",
          "name": "stdout",
          "text": [
            "tensor([2., 2., 2., 2., 2.])\n",
            "[2. 2. 2. 2. 2.]\n",
            "137224542742192\n",
            "137224541217552\n"
          ]
        }
      ]
    },
    {
      "cell_type": "code",
      "source": [
        "# practice\n",
        "\n",
        "i = torch.rand(3,3)\n",
        "print(i)\n",
        "print(type(i), end = '\\n\\n')\n",
        "\n",
        "\n",
        "j = i.numpy()\n",
        "print(j, end = '\\n\\n')\n",
        "print(type(j))"
      ],
      "metadata": {
        "colab": {
          "base_uri": "https://localhost:8080/"
        },
        "id": "vLjqIgY8eTCs",
        "outputId": "044705c1-cbcd-4825-c3d5-02a3e754bc14"
      },
      "execution_count": 15,
      "outputs": [
        {
          "output_type": "stream",
          "name": "stdout",
          "text": [
            "tensor([[0.6132, 0.6483, 0.1509],\n",
            "        [0.9733, 0.0930, 0.9081],\n",
            "        [0.0147, 0.0315, 0.0233]])\n",
            "<class 'torch.Tensor'>\n",
            "\n",
            "[[0.61318016 0.6483491  0.1508916 ]\n",
            " [0.9732614  0.09297246 0.90811366]\n",
            " [0.01470047 0.03150743 0.02330875]]\n",
            "\n",
            "<class 'numpy.ndarray'>\n"
          ]
        }
      ]
    },
    {
      "cell_type": "code",
      "source": [
        "# numpy to torch with .from_numpy(x), or torch.tensor() to copy it\n",
        "\n",
        "import numpy as np\n",
        "a = np.ones(5)\n",
        "b = torch.from_numpy(a) # shares memory\n",
        "c = torch.tensor(a) # creates copy\n",
        "print(a)\n",
        "print(b)\n",
        "print(c)\n",
        "\n",
        "# again be careful when modifying\n",
        "a += 1\n",
        "print(a)\n",
        "print(b)\n",
        "print(c)"
      ],
      "metadata": {
        "id": "SjHqp4sCeFip",
        "colab": {
          "base_uri": "https://localhost:8080/"
        },
        "outputId": "7424e60e-4864-4dd8-89cc-85310528633a"
      },
      "execution_count": 18,
      "outputs": [
        {
          "output_type": "stream",
          "name": "stdout",
          "text": [
            "[1. 1. 1. 1. 1.]\n",
            "tensor([1., 1., 1., 1., 1.], dtype=torch.float64)\n",
            "tensor([1., 1., 1., 1., 1.], dtype=torch.float64)\n",
            "[2. 2. 2. 2. 2.]\n",
            "tensor([2., 2., 2., 2., 2.], dtype=torch.float64)\n",
            "tensor([1., 1., 1., 1., 1.], dtype=torch.float64)\n"
          ]
        }
      ]
    },
    {
      "cell_type": "markdown",
      "source": [
        "#### GPU Support\n",
        "\n",
        "By default all tensors are created on the CPU.\n",
        "\n",
        "But we can also **move** them to the GPU (if it's available ),\\\n",
        "or\\\n",
        "create them directly on the GPU."
      ],
      "metadata": {
        "id": "d0JweYJEFKSC"
      }
    },
    {
      "cell_type": "code",
      "source": [
        "device = torch.device('cuda' if torch.cuda.is_available() else 'cpu')\n",
        "\n",
        "\n",
        "# device = torch.device('cuda:0' if torch.cuda.is_available() else 'cpu') # activates first GPU\n",
        "\n",
        "\n",
        "x = torch.rand(2,2).to(device)  # move tensors to GPU device\n",
        "\n",
        "#x = x.to(\"cpu\")\n",
        "\n",
        "# since we named our GPU as 'cuda' and CPU as 'cpu'\n",
        "# you can direclty move it with  without using variable 'device'\n",
        "\n",
        "#x = x.to(\"cuda\")\n",
        "\n",
        "x = torch.rand(2,2, device=device)  # or directy create them on GPU"
      ],
      "metadata": {
        "id": "ZKe9RBTzFMRP"
      },
      "execution_count": null,
      "outputs": []
    },
    {
      "cell_type": "markdown",
      "source": [
        "Creating directly on GPU is efficient if we know we need to use GPU????\n",
        "\n",
        "since it does not involve moving from cpu to gpu ?"
      ],
      "metadata": {
        "id": "C8eOlDFDwix4"
      }
    },
    {
      "cell_type": "markdown",
      "source": [
        "## 2. Autograd\n",
        "\n",
        "The autograd package provides automatic differentiation for all operations on Tensors. Generally speaking, *torch.autograd* is an engine for computing the vector-Jacobian product. It computes partial derivates while applying the chain rule.\n",
        "\n",
        "Set `requires_grad = True`:"
      ],
      "metadata": {
        "id": "AUNVPAlvxqlR"
      }
    },
    {
      "cell_type": "code",
      "source": [
        "import torch\n",
        "\n",
        "# requires_grad = True -> tracks all operations on the tensor.\n",
        "x = torch.randn(3, requires_grad=True)\n",
        "y = x + 2\n",
        "\n",
        "# y was created as a result of an operation, so it has a grad_fn attribute.\n",
        "# grad_fn: references a Function that has created the Tensor\n",
        "print(x) # created by the user -> grad_fn is None\n",
        "print(y)\n",
        "print(y.grad_fn)"
      ],
      "metadata": {
        "id": "V2uQnrUpw8DA",
        "colab": {
          "base_uri": "https://localhost:8080/"
        },
        "outputId": "d38eee45-1d81-421d-847d-923f2da6d130"
      },
      "execution_count": 19,
      "outputs": [
        {
          "output_type": "stream",
          "name": "stdout",
          "text": [
            "tensor([1.6405, 0.3465, 0.1586], requires_grad=True)\n",
            "tensor([3.6405, 2.3465, 2.1586], grad_fn=<AddBackward0>)\n",
            "<AddBackward0 object at 0x789bccc09e40>\n"
          ]
        }
      ]
    },
    {
      "cell_type": "code",
      "source": [
        "# Do more operations on y\n",
        "z = y * y * 3\n",
        "print(z)\n",
        "z = z.mean()\n",
        "print(z)"
      ],
      "metadata": {
        "id": "4mIlnyc-e5-0",
        "colab": {
          "base_uri": "https://localhost:8080/"
        },
        "outputId": "10e07b6e-5a0f-4849-d5bb-734b3c4f3d82"
      },
      "execution_count": 20,
      "outputs": [
        {
          "output_type": "stream",
          "name": "stdout",
          "text": [
            "tensor([39.7601, 16.5186, 13.9792], grad_fn=<MulBackward0>)\n",
            "tensor(23.4193, grad_fn=<MeanBackward0>)\n"
          ]
        }
      ]
    },
    {
      "cell_type": "code",
      "source": [
        "# Let's compute the gradients with backpropagation\n",
        "# When we finish our computation we can call .backward() and have all the gradients computed automatically.\n",
        "# The gradient for this tensor will be accumulated into .grad attribute.\n",
        "# It is the partial derivate of the function w.r.t. the tensor\n",
        "\n",
        "print(x.grad) # before backward propagation, .grad() is None\n",
        "z.backward()\n",
        "print(x.grad) # dz/dx\n",
        "\n",
        "# !!! Careful!!! backward() accumulates the gradient for this tensor into .grad attribute\n",
        "\n",
        "# we need to empty gradients after each iteration\n",
        "# !!! We need to be careful during optimization !!! optimizer.zero_grad()\n"
      ],
      "metadata": {
        "id": "YcSsY7z_IxOF",
        "colab": {
          "base_uri": "https://localhost:8080/"
        },
        "outputId": "dcee3099-1afa-44c6-e050-9db9c2b7bf19"
      },
      "execution_count": 21,
      "outputs": [
        {
          "output_type": "stream",
          "name": "stdout",
          "text": [
            "None\n",
            "tensor([7.2810, 4.6931, 4.3173])\n"
          ]
        }
      ]
    },
    {
      "cell_type": "markdown",
      "source": [
        "#### Stop a tensor from tracking history:\n",
        "\n",
        "For example during the training loop\n",
        "when we want to update our weights,\\\n",
        "or\\\n",
        "after training during evaluation.\n",
        "\n",
        "These operations should not be part of the gradient computation. To prevent this, we can use:\n",
        "\n",
        "- `x.requires_grad_(False)`\n",
        "- `x.detach()`\n",
        "- wrap in `with torch.no_grad():`"
      ],
      "metadata": {
        "id": "sqft_WDKgPfa"
      }
    },
    {
      "cell_type": "code",
      "source": [
        "# .requires_grad_(...) changes an existing flag in-place.\n",
        "\n",
        "a = torch.randn(2, 2)  # requires_grad_ = False by default\n",
        "b = (a * a).sum()\n",
        "print(a.requires_grad)\n",
        "print(f\"grad_fn is {b.grad_fn}\")\n",
        "\n",
        "a.requires_grad_(True) # can also be used to set to False\n",
        "b = (a * a).sum() # redo-operations after setting it to True\n",
        "print(a.requires_grad)\n",
        "print(f\"grad_fn is {b.grad_fn}\")"
      ],
      "metadata": {
        "id": "ixsK058BgPJq",
        "colab": {
          "base_uri": "https://localhost:8080/"
        },
        "outputId": "2b515837-fc77-43c6-a0b1-f5ca0184f0fd"
      },
      "execution_count": 24,
      "outputs": [
        {
          "output_type": "stream",
          "name": "stdout",
          "text": [
            "False\n",
            "grad_fn is None\n",
            "True\n",
            "grad_fn is <SumBackward0 object at 0x789bccc08190>\n"
          ]
        }
      ]
    },
    {
      "cell_type": "code",
      "source": [
        "# .detach(): get a new Tensor with the same content but no gradient computation: i.e. tensor with requires_grad_ = False\n",
        "\n",
        "a = torch.randn(2, 2, requires_grad=True)\n",
        "b = a.detach()\n",
        "print(a.requires_grad)\n",
        "print(b.requires_grad)"
      ],
      "metadata": {
        "id": "5Ry_MsWhfByT",
        "colab": {
          "base_uri": "https://localhost:8080/"
        },
        "outputId": "4f1e4230-428e-408f-9d8b-aaa414ddfbb8"
      },
      "execution_count": 25,
      "outputs": [
        {
          "output_type": "stream",
          "name": "stdout",
          "text": [
            "True\n",
            "False\n"
          ]
        }
      ]
    },
    {
      "cell_type": "code",
      "source": [
        "# wrap in 'with torch.no_grad():'\n",
        "a = torch.randn(2, 2, requires_grad=True)\n",
        "print(a.requires_grad)\n",
        "\n",
        "with torch.no_grad():\n",
        "    b = a ** 2\n",
        "    print(b.requires_grad)"
      ],
      "metadata": {
        "id": "D1Y9nLXVfFAC",
        "colab": {
          "base_uri": "https://localhost:8080/"
        },
        "outputId": "2f78618a-dde4-418c-906e-c8d5022db7ae"
      },
      "execution_count": 26,
      "outputs": [
        {
          "output_type": "stream",
          "name": "stdout",
          "text": [
            "True\n",
            "False\n"
          ]
        }
      ]
    },
    {
      "cell_type": "markdown",
      "source": [
        "## Gradient Descent with Autograd Package\n",
        "Linear Regression example:\n",
        "\n",
        "$f(x) = w * x + b$\n",
        "\n",
        "here : `f(x) = 2 * x`"
      ],
      "metadata": {
        "id": "L6gdoDj1QZQ6"
      }
    },
    {
      "cell_type": "code",
      "source": [
        "import torch\n",
        "\n",
        "# Linear regression\n",
        "# f = w * x  + b\n",
        "# here : f = 2 * x\n",
        "\n",
        "X = torch.tensor([1, 2, 3, 4, 5, 6, 7, 8], dtype=torch.float32)\n",
        "\n",
        "print(X, end = '\\n\\n')\n",
        "print(X.shape, end = '\\n\\n')\n",
        "Y = torch.tensor([2, 4, 6, 8, 10, 12, 14, 16], dtype=torch.float32) # f = y = 2 * x\n",
        "\n",
        "\n",
        "w = torch.tensor(0.0, dtype=torch.float32, requires_grad=True) # weights tensor\n",
        "# requires_grad=True = true cuz we need to calculate gradient wrt weights\n",
        "# operations on w are tracked\n",
        "\n",
        "\n",
        "# model output\n",
        "def forward(x):\n",
        "    return w * x\n",
        "\n",
        "# loss = MSE\n",
        "def loss(y, y_pred):\n",
        "    return ((y_pred - y)**2).mean()\n",
        "\n",
        "# create test sample\n",
        "X_test = 5.0\n",
        "\n",
        "print(f'Prediction before training: f({X_test}) = {forward(X_test).item():.3f}')\n",
        "\n",
        "# weights are not optimised yet so prediciton is 0 in forward pass instead of 10"
      ],
      "metadata": {
        "id": "YDzeYp72xnhg",
        "colab": {
          "base_uri": "https://localhost:8080/"
        },
        "outputId": "d4064b5b-5072-44dc-a973-fadba81c7a7b"
      },
      "execution_count": 3,
      "outputs": [
        {
          "output_type": "stream",
          "name": "stdout",
          "text": [
            "tensor([1., 2., 3., 4., 5., 6., 7., 8.])\n",
            "\n",
            "torch.Size([8])\n",
            "\n",
            "Prediction before training: f(5.0) = 0.000\n"
          ]
        }
      ]
    },
    {
      "cell_type": "code",
      "source": [
        "# Training\n",
        "learning_rate = 0.01\n",
        "n_epochs = 100\n",
        "\n",
        "for epoch in range(n_epochs):\n",
        "    # predict = forward pass\n",
        "    y_pred = forward(X)\n",
        "\n",
        "    # loss\n",
        "    l = loss(Y, y_pred)\n",
        "\n",
        "    # calculate gradients = backward pass\n",
        "    l.backward()\n",
        "\n",
        "    # update weights\n",
        "    #w.data = w.data - learning_rate * w.grad\n",
        "    with torch.no_grad():\n",
        "      w -= learning_rate * w.grad\n",
        "\n",
        "    # zero/empty the gradients after updating\n",
        "    w.grad.zero_()\n",
        "\n",
        "    if (epoch+1) % 10 == 0:\n",
        "        print(f'epoch {epoch+1}: w = {w.item():.3f}, loss = {l.item():.3f}')\n",
        "\n",
        "print(f'Prediction after training: f({X_test}) = {forward(X_test).item():.3f}')"
      ],
      "metadata": {
        "id": "3H_VoUv9pnfP",
        "colab": {
          "base_uri": "https://localhost:8080/"
        },
        "outputId": "f6a16a99-0acb-4847-c764-b936e5d55ee8"
      },
      "execution_count": 28,
      "outputs": [
        {
          "output_type": "stream",
          "name": "stdout",
          "text": [
            "epoch 10: w = 1.998, loss = 0.000\n",
            "epoch 20: w = 2.000, loss = 0.000\n",
            "epoch 30: w = 2.000, loss = 0.000\n",
            "epoch 40: w = 2.000, loss = 0.000\n",
            "epoch 50: w = 2.000, loss = 0.000\n",
            "epoch 60: w = 2.000, loss = 0.000\n",
            "epoch 70: w = 2.000, loss = 0.000\n",
            "epoch 80: w = 2.000, loss = 0.000\n",
            "epoch 90: w = 2.000, loss = 0.000\n",
            "epoch 100: w = 2.000, loss = 0.000\n",
            "Prediction after training: f(5.0) = 10.000\n"
          ]
        }
      ]
    },
    {
      "cell_type": "markdown",
      "source": [
        "## 3. Model, Loss & Optimizer\n",
        "\n",
        "So far we have not used any of the pytorchs inbuilt capabilities\\\n",
        "we have written everything for everything\n",
        "\n",
        "now lets look at how\\\n",
        "A typical PyTorch pipeline looks like this:\n",
        "\n",
        "1. Design model (input, output, forward pass with different layers)\n",
        "2. Construct loss and optimizer\n",
        "3. Training loop:\n",
        "  - Forward = compute prediction and loss\n",
        "  - Backward = compute gradients\n",
        "  - Update weights"
      ],
      "metadata": {
        "id": "Vjq9HmRFQjov"
      }
    },
    {
      "cell_type": "code",
      "source": [
        "import torch\n",
        "import torch.nn as nn # neural network module\n",
        "\n",
        "# Linear regression\n",
        "# f = w * x\n",
        "# here : f = 2 * x\n",
        "\n",
        "# 0) Training samples, watch the shape! the module expect like this so that we have clear no. of samples and features\n",
        "X = torch.tensor([[1], [2], [3], [4], [5], [6], [7], [8]], dtype=torch.float32)\n",
        "print(X)\n",
        "print(X.shape, end = '\\n\\n')\n",
        "\n",
        "Y = torch.tensor([[2], [4], [6], [8], [10], [12], [14], [16]], dtype=torch.float32)\n",
        "\n",
        "\n",
        "n_samples, n_features = X.shape\n",
        "print(f'n_samples = {n_samples}, n_features = {n_features}', end = '\\n\\n\\n')\n",
        "\n",
        "# 0) create a test sample\n",
        "X_test = torch.tensor([5], dtype=torch.float32) # put list of 5 not value 5 in X_test\n",
        "\n",
        "print(X_test)\n",
        "print(X_test.shape)"
      ],
      "metadata": {
        "id": "e9HD5KW3QGFS",
        "colab": {
          "base_uri": "https://localhost:8080/"
        },
        "outputId": "3722982b-1097-43cc-81ab-8f220e19dd26"
      },
      "execution_count": 7,
      "outputs": [
        {
          "output_type": "stream",
          "name": "stdout",
          "text": [
            "tensor([[1.],\n",
            "        [2.],\n",
            "        [3.],\n",
            "        [4.],\n",
            "        [5.],\n",
            "        [6.],\n",
            "        [7.],\n",
            "        [8.]])\n",
            "torch.Size([8, 1])\n",
            "\n",
            "n_samples = 8, n_features = 1\n",
            "\n",
            "\n",
            "tensor([5.])\n",
            "torch.Size([1])\n"
          ]
        }
      ]
    },
    {
      "cell_type": "code",
      "source": [
        "# 1) Design Model, the model has to implement the forward pass!\n",
        "\n",
        "# Here we could simply use a built-in model from PyTorch\n",
        "# model = nn.Linear(input_size, output_size)\n",
        "\n",
        "\n",
        "class LinearRegression(nn.Module): # when we create a model , we need to inherit from Module\n",
        "\n",
        "    def __init__(self, input_dim, output_dim):\n",
        "\n",
        "        super(LinearRegression, self).__init__()\n",
        "\n",
        "        # define different layers\n",
        "        self.lin = nn.Linear(input_dim, output_dim) # f = w * x  + b\n",
        "\n",
        "    def forward(self, x): # apply the layers with x as input\n",
        "        return self.lin(x)\n",
        "\n",
        "\n",
        "input_size, output_size = n_features, n_features\n",
        "\n",
        "model = LinearRegression(input_size, output_size)\n",
        "\n",
        "# will not get initilized to 0 as we are using pytorchs typical blueprint\n",
        "print(f'Prediction before training: f({X_test.item()}) = {model(X_test).item():.3f}')\n",
        "\n",
        "# 2) Define loss and optimizer\n",
        "learning_rate = 0.01\n",
        "n_epochs = 100\n",
        "\n",
        "# built in loss and optimizer\n",
        "loss = nn.MSELoss()\n",
        "optimizer = torch.optim.SGD(model.parameters(), lr=learning_rate)\n",
        "\n",
        "# 3) Training loop\n",
        "for epoch in range(n_epochs):\n",
        "\n",
        "    # predict = forward pass auto called internally when input is passed into the model\n",
        "    y_predicted = model(X)\n",
        "\n",
        "    # loss using actual values and predictions\n",
        "    l = loss(Y, y_predicted)\n",
        "\n",
        "    # calculate gradients = backward pass\n",
        "    l.backward()\n",
        "\n",
        "    # update weights i.e. model.parameters()\n",
        "    optimizer.step()\n",
        "\n",
        "    # zero the gradients after updating\n",
        "    optimizer.zero_grad()\n",
        "\n",
        "    if (epoch+1) % 10 == 0:\n",
        "        w, b = model.parameters() # unpack parameters\n",
        "        print('epoch ', epoch+1, ': w = ', w[0][0].item(), ' loss = ', l.item())\n",
        "\n",
        "print(f'Prediction after training: f({X_test.item()}) = {model(X_test).item():.3f}')"
      ],
      "metadata": {
        "id": "eID-YTrgqNUn",
        "colab": {
          "base_uri": "https://localhost:8080/"
        },
        "outputId": "dd001afa-6478-4d23-ca54-6537ff969652"
      },
      "execution_count": 8,
      "outputs": [
        {
          "output_type": "stream",
          "name": "stdout",
          "text": [
            "Prediction before training: f(5.0) = -0.748\n",
            "epoch  10 : w =  1.9984378814697266  loss =  0.00017143978038802743\n",
            "epoch  20 : w =  1.9996401071548462  loss =  8.463347285214695e-07\n",
            "epoch  30 : w =  1.9996548891067505  loss =  7.813987394911237e-07\n",
            "epoch  40 : w =  1.9996684789657593  loss =  7.214126753751771e-07\n",
            "epoch  50 : w =  1.9996814727783203  loss =  6.659243467765918e-07\n",
            "epoch  60 : w =  1.9996938705444336  loss =  6.145502311483142e-07\n",
            "epoch  70 : w =  1.9997059106826782  loss =  5.672326324202004e-07\n",
            "epoch  80 : w =  1.9997174739837646  loss =  5.237951654635253e-07\n",
            "epoch  90 : w =  1.9997285604476929  loss =  4.833890443478595e-07\n",
            "epoch  100 : w =  1.999739170074463  loss =  4.462802678517619e-07\n",
            "Prediction after training: f(5.0) = 10.000\n"
          ]
        }
      ]
    },
    {
      "cell_type": "markdown",
      "source": [
        "## 4. First Neural Net\n",
        "\n",
        "\n",
        "GPU, Datasets, DataLoader, Transforms, Neural Net, Training & Evaluation\n"
      ],
      "metadata": {
        "id": "M4njny3PUJsI"
      }
    },
    {
      "cell_type": "code",
      "source": [
        "import torch\n",
        "import torch.nn as nn\n",
        "import torchvision\n",
        "import torchvision.transforms as transforms\n",
        "import matplotlib.pyplot as plt\n",
        "\n",
        "# Device configuration\n",
        "device = torch.device('cuda' if torch.cuda.is_available() else 'cpu')\n",
        "\n",
        "# Hyper-parameters\n",
        "input_size = 784 # 28x28\n",
        "hidden_size = 500\n",
        "num_classes = 10\n",
        "num_epochs = 2\n",
        "batch_size = 100\n",
        "learning_rate = 0.001\n",
        "\n",
        "# Inbuilt MNIST dataset\n",
        "train_dataset = torchvision.datasets.MNIST(root='./data',\n",
        "                                           train=True,\n",
        "                                           transform=transforms.ToTensor(),\n",
        "                                           download=True)\n",
        "\n",
        "# transforms.ToTensor() converts to tensor from pillow image or numpy array\n",
        "\n",
        "test_dataset = torchvision.datasets.MNIST(root='./data',\n",
        "                                          train=False,\n",
        "                                          transform=transforms.ToTensor())\n",
        "\n",
        "\n",
        "# Data loader provides optimized way to iterate over dataset\n",
        "\n",
        "train_loader = torch.utils.data.DataLoader(dataset=train_dataset,\n",
        "                                           batch_size=batch_size,\n",
        "                                           shuffle=True) # shuffle true for training\n",
        "\n",
        "test_loader = torch.utils.data.DataLoader(dataset=test_dataset,\n",
        "                                          batch_size=batch_size,\n",
        "                                          shuffle=False)\n",
        "\n"
      ],
      "metadata": {
        "id": "dLpCL5NUQzOZ"
      },
      "execution_count": 18,
      "outputs": []
    },
    {
      "cell_type": "code",
      "source": [
        "\n",
        "\n",
        "# we can directly iterate datasets in for loop, but for demo purposes we create a iter obj so see whats in ONE batch of dataset\n",
        "examples = iter(test_loader)\n",
        "#print(next(examples))\n",
        "example_data, example_targets = next(examples)\n",
        "\n",
        "\n",
        "print(example_data.shape)\n",
        "print(example_data[0].shape)\n",
        "print(example_targets.shape)\n",
        "\n",
        "\n",
        "for i in range(6):\n",
        "    plt.subplot(2,3,i+1)\n",
        "    plt.imshow(example_data[i][0], cmap='gray')\n",
        "plt.show()"
      ],
      "metadata": {
        "id": "ONYM9w3wnuA-",
        "outputId": "075391d3-4d30-490a-8efe-19d1fd395fa4",
        "colab": {
          "base_uri": "https://localhost:8080/",
          "height": 463
        }
      },
      "execution_count": 23,
      "outputs": [
        {
          "output_type": "stream",
          "name": "stdout",
          "text": [
            "torch.Size([100, 1, 28, 28])\n",
            "torch.Size([1, 28, 28])\n",
            "torch.Size([100])\n"
          ]
        },
        {
          "output_type": "display_data",
          "data": {
            "text/plain": [
              "<Figure size 640x480 with 6 Axes>"
            ],
            "image/png": "[encoded data removed]"
          },
          "metadata": {}
        }
      ]
    },
    {
      "cell_type": "code",
      "source": [
        "# Fully connected neural network with one hidden layer\n",
        "\n",
        "class NeuralNet(nn.Module):\n",
        "    def __init__(self, input_size, hidden_size, num_classes):\n",
        "        super(NeuralNet, self).__init__()\n",
        "\n",
        "        # define i/p and o/p layers and activation functions in right order\n",
        "        self.l1 = nn.Linear(input_size, hidden_size)\n",
        "        self.relu = nn.ReLU()\n",
        "        self.l2 = nn.Linear(hidden_size, num_classes)\n",
        "\n",
        "    def forward(self, x):\n",
        "        out = self.l1(x)\n",
        "        out = self.relu(out)\n",
        "        out = self.l2(out)\n",
        "        # no activation and no softmax at the end cuz CrossEntropyLoss needs raw values, check doc\n",
        "        return out\n",
        "\n",
        "model = NeuralNet(input_size, hidden_size, num_classes).to(device) # pushing model to GPU, then push later all tensors related to model\n",
        "\n",
        "# Loss and optimizer\n",
        "criterion = nn.CrossEntropyLoss() # multi-class classification\n",
        "optimizer = torch.optim.Adam(model.parameters(), lr=learning_rate)\n",
        "\n",
        "# Train the model\n",
        "\n",
        "# usually have two for-loops, first for-loop for no. of epochs -- train longer by INC the epochs\n",
        "# seconf for-loop for\n",
        "n_total_steps = len(train_loader)\n",
        "for epoch in range(num_epochs):\n",
        "    for i, (images, labels) in enumerate(train_loader):  # iterate in optimized way over ALL batches\n",
        "        # origin shape: [100, 1, 28, 28]\n",
        "        # resized: [100, 784]\n",
        "        images = images.reshape(-1, 28*28).to(device) # reshape and push to GPU\n",
        "        labels = labels.to(device) # push to GPU\n",
        "\n",
        "        # Forward pass and loss calculation\n",
        "        outputs = model(images)\n",
        "        loss = criterion(outputs, labels)\n",
        "\n",
        "        # Backward and optimize\n",
        "        loss.backward()\n",
        "        optimizer.step()\n",
        "        optimizer.zero_grad()\n",
        "\n",
        "        if (i+1) % 100 == 0:\n",
        "            print (f'Epoch [{epoch+1}/{num_epochs}], Step [{i+1}/{n_total_steps}], Loss: {loss.item():.4f}')"
      ],
      "metadata": {
        "colab": {
          "base_uri": "https://localhost:8080/"
        },
        "id": "udJ5RnoDrOzp",
        "outputId": "9aee12bb-b685-4627-92d3-478b5e307138"
      },
      "execution_count": 24,
      "outputs": [
        {
          "output_type": "stream",
          "name": "stdout",
          "text": [
            "Epoch [1/2], Step [100/600], Loss: 0.3131\n",
            "Epoch [1/2], Step [200/600], Loss: 0.3224\n",
            "Epoch [1/2], Step [300/600], Loss: 0.1798\n",
            "Epoch [1/2], Step [400/600], Loss: 0.1551\n",
            "Epoch [1/2], Step [500/600], Loss: 0.1890\n",
            "Epoch [1/2], Step [600/600], Loss: 0.1064\n",
            "Epoch [2/2], Step [100/600], Loss: 0.1444\n",
            "Epoch [2/2], Step [200/600], Loss: 0.0753\n",
            "Epoch [2/2], Step [300/600], Loss: 0.1059\n",
            "Epoch [2/2], Step [400/600], Loss: 0.1351\n",
            "Epoch [2/2], Step [500/600], Loss: 0.0530\n",
            "Epoch [2/2], Step [600/600], Loss: 0.1131\n"
          ]
        }
      ]
    },
    {
      "cell_type": "code",
      "source": [
        "# Test the model: we don't need to compute gradients\n",
        "\n",
        "\n",
        "with torch.no_grad(): # no gradient computation req now\n",
        "    n_correct = 0\n",
        "    n_samples = len(test_loader.dataset)\n",
        "\n",
        "    for images, labels in test_loader:\n",
        "        images = images.reshape(-1, 28*28).to(device)\n",
        "        labels = labels.to(device)\n",
        "\n",
        "        outputs = model(images)\n",
        "\n",
        "        # max returns (output_value ,index)\n",
        "        _, predicted = torch.max(outputs, 1)\n",
        "\n",
        "        # compare index of prediction with lablels\n",
        "        n_correct += (predicted == labels).sum().item()\n",
        "\n",
        "    acc = n_correct / n_samples\n",
        "    print(f'Accuracy of the network on the {n_samples} test images: {100*acc} %')"
      ],
      "metadata": {
        "colab": {
          "base_uri": "https://localhost:8080/"
        },
        "id": "i9x54JYIrTUd",
        "outputId": "8319d563-1c0b-4f37-c2e6-2360c37b0466"
      },
      "execution_count": 25,
      "outputs": [
        {
          "output_type": "stream",
          "name": "stdout",
          "text": [
            "Accuracy of the network on the 10000 test images: 96.83 %\n"
          ]
        }
      ]
    },
    {
      "cell_type": "markdown",
      "source": [
        "## 5. CNN\n",
        "\n",
        "Above we just used normal neural network lets use CNN\\\n",
        "and example here has COLOR images\\\n",
        "This section covers:\n",
        "\n",
        "- Convolutional Layers\n",
        "- MaxPooling\n",
        "- Save/Load model"
      ],
      "metadata": {
        "id": "yKgzU8XCurGW"
      }
    },
    {
      "cell_type": "code",
      "source": [
        "import torch\n",
        "import torch.nn as nn\n",
        "import torch.nn.functional as F\n",
        "import torchvision\n",
        "import torchvision.transforms as transforms\n",
        "import matplotlib.pyplot as plt\n",
        "import numpy as np\n",
        "\n",
        "# Device configuration\n",
        "device = torch.device('cuda' if torch.cuda.is_available() else 'cpu')\n",
        "\n",
        "# Hyper-parameters\n",
        "num_epochs = 10\n",
        "batch_size = 32\n",
        "learning_rate = 0.001\n",
        "\n",
        "# dataset has PILImage images of range [0, 1].\n",
        "# We transform them to Tensors that has normalized range [-1, 1] using mean = S.D = (0.5, 0.5, 0.5) for all 3 color channels\n",
        "transform = transforms.Compose(\n",
        "    [transforms.ToTensor(),\n",
        "     transforms.Normalize((0.5, 0.5, 0.5), (0.5, 0.5, 0.5))])\n",
        "\n",
        "# CIFAR10: 60000 32x32 color images in 10 classes, with 6000 images per class\n",
        "train_dataset = torchvision.datasets.CIFAR10(root='./data', train=True,\n",
        "                                        download=True, transform=transform) # transform as we defined above\n",
        "\n",
        "test_dataset = torchvision.datasets.CIFAR10(root='./data', train=False,\n",
        "                                       download=True, transform=transform)\n",
        "\n",
        "train_loader = torch.utils.data.DataLoader(train_dataset, batch_size=batch_size,\n",
        "                                          shuffle=True) # shuffle true for training\n",
        "\n",
        "test_loader = torch.utils.data.DataLoader(test_dataset, batch_size=batch_size,\n",
        "                                         shuffle=False)\n",
        "\n",
        "classes = ('plane', 'car', 'bird', 'cat',\n",
        "           'deer', 'dog', 'frog', 'horse', 'ship', 'truck')\n",
        "\n",
        "def imshow(imgs):\n",
        "    imgs = imgs / 2 + 0.5   # unnormalize\n",
        "    npimgs = imgs.numpy()\n",
        "    plt.imshow(np.transpose(npimgs, (1, 2, 0)))\n",
        "    plt.show()\n",
        "\n",
        "# ONE  batch of random training images\n",
        "dataiter = iter(train_loader)\n",
        "images, labels = next(dataiter)\n",
        "img_grid = torchvision.utils.make_grid(images[0:25], nrow=5)\n",
        "imshow(img_grid)"
      ],
      "metadata": {
        "colab": {
          "base_uri": "https://localhost:8080/",
          "height": 503
        },
        "id": "Sr91YjuQT-XP",
        "outputId": "cf2c86a4-d30d-4f9a-fc4d-7464a8bed048"
      },
      "execution_count": 1,
      "outputs": [
        {
          "output_type": "stream",
          "name": "stdout",
          "text": [
            "Downloading https://www.cs.toronto.edu/~kriz/cifar-10-python.tar.gz to ./data/cifar-10-python.tar.gz\n"
          ]
        },
        {
          "output_type": "stream",
          "name": "stderr",
          "text": [
            "100%|██████████| 170498071/170498071 [00:02<00:00, 77948771.91it/s]\n"
          ]
        },
        {
          "output_type": "stream",
          "name": "stdout",
          "text": [
            "Extracting ./data/cifar-10-python.tar.gz to ./data\n",
            "Files already downloaded and verified\n"
          ]
        },
        {
          "output_type": "display_data",
          "data": {
            "text/plain": [
              "<Figure size 640x480 with 1 Axes>"
            ],
            "image/png": "[encoded data removed]"
          },
          "metadata": {}
        }
      ]
    },
    {
      "cell_type": "code",
      "source": [
        "class ConvNet(nn.Module):\n",
        "    def __init__(self):\n",
        "        super().__init__()\n",
        "        # define all layers we want\n",
        "        self.conv1 = nn.Conv2d(3, 32, 3) # 3 input channels for RGB, 32 as output size\n",
        "        self.pool = nn.MaxPool2d(2, 2)\n",
        "        self.conv2 = nn.Conv2d(32, 64, 3)\n",
        "        self.conv3 = nn.Conv2d(64, 64, 3)\n",
        "        self.fc1 = nn.Linear(64*4*4, 64)\n",
        "        self.fc2 = nn.Linear(64, 10)\n",
        "\n",
        "    def forward(self, x):\n",
        "        # N, 3, 32, 32\n",
        "\n",
        "        # in above example we defined relu in init, we can do like this too\n",
        "        x = F.relu(self.conv1(x))   # -> N, 32, 30, 30\n",
        "        x = self.pool(x)            # -> N, 32, 15, 15\n",
        "        x = F.relu(self.conv2(x))   # -> N, 64, 13, 13\n",
        "        x = self.pool(x)            # -> N, 64, 6, 6\n",
        "        x = F.relu(self.conv3(x))   # -> N, 64, 4, 4\n",
        "        x = torch.flatten(x, 1)     # -> N, 1024\n",
        "        x = F.relu(self.fc1(x))     # -> N, 64\n",
        "        x = self.fc2(x)             # -> N, 10\n",
        "        return x\n",
        "\n",
        "\n",
        "model = ConvNet().to(device)\n",
        "\n",
        "criterion = nn.CrossEntropyLoss()\n",
        "optimizer = torch.optim.Adam(model.parameters(), lr=learning_rate)\n",
        "\n",
        "n_total_steps = len(train_loader)\n",
        "for epoch in range(num_epochs):\n",
        "\n",
        "    running_loss = 0.0\n",
        "\n",
        "    for i, (images, labels) in enumerate(train_loader):\n",
        "        images = images.to(device)\n",
        "        labels = labels.to(device)\n",
        "\n",
        "        # Forward pass\n",
        "        outputs = model(images)\n",
        "        loss = criterion(outputs, labels)\n",
        "\n",
        "        # Backward and optimize\n",
        "\n",
        "        optimizer.zero_grad() # after or before iteration, empty gradients\n",
        "        loss.backward()\n",
        "        optimizer.step()\n",
        "\n",
        "\n",
        "        running_loss += loss.item()\n",
        "\n",
        "    print(f'[{epoch + 1}] loss: {running_loss / n_total_steps:.3f}')\n",
        "\n",
        "print('Finished Training')\n",
        "PATH = './cnn.pth' # .pth extension for pytorch\n",
        "torch.save(model.state_dict(), PATH) # only store train parametres"
      ],
      "metadata": {
        "id": "n4ekV872wPF5",
        "colab": {
          "base_uri": "https://localhost:8080/"
        },
        "outputId": "f4ffe55d-9c42-4298-ce78-f081490f85e3"
      },
      "execution_count": 2,
      "outputs": [
        {
          "output_type": "stream",
          "name": "stdout",
          "text": [
            "[1] loss: 1.501\n",
            "[2] loss: 1.118\n",
            "[3] loss: 0.949\n",
            "[4] loss: 0.838\n",
            "[5] loss: 0.767\n",
            "[6] loss: 0.703\n",
            "[7] loss: 0.658\n",
            "[8] loss: 0.616\n",
            "[9] loss: 0.575\n",
            "[10] loss: 0.543\n",
            "Finished Training\n"
          ]
        }
      ]
    },
    {
      "cell_type": "code",
      "source": [
        "# load from the saved model\n",
        "loaded_model = ConvNet()\n",
        "loaded_model.load_state_dict(torch.load(PATH)) # it takes the loaded dictionary, NOT the path file itself\n",
        "loaded_model.to(device)\n",
        "loaded_model.eval() # sets internal config better for evaluating NOT Training\n",
        "\n",
        "with torch.no_grad():\n",
        "    n_correct = 0\n",
        "    n_correct2 = 0\n",
        "    n_samples = len(test_loader.dataset)\n",
        "\n",
        "    for images, labels in test_loader:\n",
        "        images = images.to(device)\n",
        "        labels = labels.to(device)\n",
        "        outputs = model(images)\n",
        "\n",
        "        # max returns (value ,index)\n",
        "        _, predicted = torch.max(outputs, 1)\n",
        "        n_correct += (predicted == labels).sum().item()\n",
        "\n",
        "        outputs2 = loaded_model(images)\n",
        "        _, predicted2 = torch.max(outputs2, 1)\n",
        "        n_correct2 += (predicted2 == labels).sum().item()\n",
        "\n",
        "    acc = 100.0 * n_correct / n_samples\n",
        "    print(f'Accuracy of the model: {acc} %')\n",
        "\n",
        "    acc = 100.0 * n_correct2 / n_samples\n",
        "    print(f'Accuracy of the loaded model: {acc} %')"
      ],
      "metadata": {
        "colab": {
          "base_uri": "https://localhost:8080/"
        },
        "id": "oVIQkMQXsRIR",
        "outputId": "de5e0aec-fb90-48bc-aec0-0fa29d411452"
      },
      "execution_count": 3,
      "outputs": [
        {
          "output_type": "stream",
          "name": "stdout",
          "text": [
            "Accuracy of the model: 71.74 %\n",
            "Accuracy of the loaded model: 71.74 %\n"
          ]
        }
      ]
    },
    {
      "cell_type": "code",
      "source": [],
      "metadata": {
        "id": "Wk4gdclP9yPQ"
      },
      "execution_count": null,
      "outputs": []
    }
  ]
}